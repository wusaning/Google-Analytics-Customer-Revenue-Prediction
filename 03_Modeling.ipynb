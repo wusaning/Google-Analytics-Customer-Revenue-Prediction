{
 "cells": [
  {
   "cell_type": "markdown",
   "metadata": {},
   "source": [
    "### 2631 Assignment 2  - Modeling"
   ]
  },
  {
   "cell_type": "markdown",
   "metadata": {},
   "source": [
    "### Yiming Gu, \n",
    "### Shenghua Yue"
   ]
  },
  {
   "cell_type": "code",
   "execution_count": 1,
   "metadata": {},
   "outputs": [],
   "source": [
    "import pandas as pd\n",
    "import numpy as np\n",
    "import math\n",
    "from datetime import timedelta\n",
    "import lightgbm as lgb"
   ]
  },
  {
   "cell_type": "code",
   "execution_count": 2,
   "metadata": {},
   "outputs": [],
   "source": [
    "# print all the outputs in a cell\n",
    "from IPython.core.interactiveshell import InteractiveShell\n",
    "InteractiveShell.ast_node_interactivity = \"all\""
   ]
  },
  {
   "cell_type": "code",
   "execution_count": 3,
   "metadata": {},
   "outputs": [],
   "source": [
    "import warnings\n",
    "warnings.filterwarnings('ignore')"
   ]
  },
  {
   "cell_type": "code",
   "execution_count": 4,
   "metadata": {},
   "outputs": [],
   "source": [
    "pd.options.display.max_columns = 999"
   ]
  },
  {
   "cell_type": "code",
   "execution_count": 5,
   "metadata": {},
   "outputs": [],
   "source": [
    "#input the preprocessed data \n",
    "train = pd.read_csv('train_all.csv',low_memory=True)"
   ]
  },
  {
   "cell_type": "code",
   "execution_count": 6,
   "metadata": {},
   "outputs": [],
   "source": [
    "test = pd.read_csv('test_all.csv',low_memory=True)"
   ]
  },
  {
   "cell_type": "code",
   "execution_count": 7,
   "metadata": {},
   "outputs": [
    {
     "data": {
      "text/plain": [
       "(1708337, 38)"
      ]
     },
     "execution_count": 7,
     "metadata": {},
     "output_type": "execute_result"
    },
    {
     "data": {
      "text/plain": [
       "(401589, 37)"
      ]
     },
     "execution_count": 7,
     "metadata": {},
     "output_type": "execute_result"
    }
   ],
   "source": [
    "train.shape\n",
    "test.shape"
   ]
  },
  {
   "cell_type": "code",
   "execution_count": 8,
   "metadata": {},
   "outputs": [],
   "source": [
    "train['date'] = pd.to_datetime(train.date.apply(lambda x: str(x)[0:4] + '-' + str(x)[4:6] + '-' + str(x)[6:8]))\n",
    "test['date'] = pd.to_datetime(test.date.apply(lambda x: str(x)[0:4] + '-' + str(x)[4:6] + '-' + str(x)[6:8]))"
   ]
  },
  {
   "cell_type": "code",
   "execution_count": 9,
   "metadata": {},
   "outputs": [],
   "source": [
    "train.drop(['campaignCode'], axis=1,inplace=True)"
   ]
  },
  {
   "cell_type": "code",
   "execution_count": 10,
   "metadata": {},
   "outputs": [],
   "source": [
    "#combine the train and test data for splitting the time windows (which will be explained later)\n",
    "all_data = pd.concat([train, test])"
   ]
  },
  {
   "cell_type": "code",
   "execution_count": 11,
   "metadata": {},
   "outputs": [
    {
     "data": {
      "text/plain": [
       "Unnamed: 0                       0\n",
       "adContent                  1643600\n",
       "bounces                    1055670\n",
       "browser                          0\n",
       "campaign                         0\n",
       "channelGrouping                  0\n",
       "city                             0\n",
       "continent                        0\n",
       "country                          0\n",
       "date                             0\n",
       "deviceCategory                   0\n",
       "fullVisitorId                    0\n",
       "hits                             0\n",
       "index                      1034549\n",
       "isMobile                         0\n",
       "isTrueDirect               1426999\n",
       "keyword                    1093006\n",
       "medium                           0\n",
       "metro                            0\n",
       "networkDomain                    0\n",
       "newVisits                   516431\n",
       "operatingSystem                  0\n",
       "pageviews                      340\n",
       "referralPath               1142073\n",
       "region                           0\n",
       "sessionQualityDim           835274\n",
       "source                           0\n",
       "subContinent                     0\n",
       "timeOnSite                 1057980\n",
       "totalTransactionRevenue    2086818\n",
       "transactionRevenue         2086818\n",
       "transactions               2085062\n",
       "value                      1034549\n",
       "visitId                          0\n",
       "visitNumber                      0\n",
       "visitStartTime                   0\n",
       "visits                           0\n",
       "dtype: int64"
      ]
     },
     "execution_count": 11,
     "metadata": {},
     "output_type": "execute_result"
    }
   ],
   "source": [
    "# check and handle the missing values\n",
    "all_data.isna().sum()"
   ]
  },
  {
   "cell_type": "code",
   "execution_count": 12,
   "metadata": {},
   "outputs": [],
   "source": [
    "all_data.transactionRevenue.fillna(0,inplace=True)\n",
    "all_data.totalTransactionRevenue.fillna(0,inplace=True)\n",
    "all_data.bounces.fillna(0,inplace=True)\n",
    "all_data.isTrueDirect.fillna(False, inplace=True)\n",
    "all_data.newVisits.fillna(0,inplace=True)\n",
    "all_data.sessionQualityDim.fillna(0,inplace=True)\n",
    "all_data.transactions.fillna(0,inplace=True)\n",
    "all_data.pageviews.fillna(0,inplace=True)\n",
    "all_data.timeOnSite.fillna(0,inplace=True)"
   ]
  },
  {
   "cell_type": "code",
   "execution_count": 13,
   "metadata": {},
   "outputs": [],
   "source": [
    "all_data.dropna(thresh=1000000, axis=1, inplace=True)"
   ]
  },
  {
   "cell_type": "code",
   "execution_count": 14,
   "metadata": {},
   "outputs": [],
   "source": [
    "dropcol = ['Unnamed: 0','index', 'keyword', 'value']\n",
    "all_data.drop(columns = dropcol, inplace=True)"
   ]
  },
  {
   "cell_type": "code",
   "execution_count": 15,
   "metadata": {},
   "outputs": [
    {
     "data": {
      "text/plain": [
       "0"
      ]
     },
     "execution_count": 15,
     "metadata": {},
     "output_type": "execute_result"
    },
    {
     "data": {
      "text/plain": [
       "(2109926, 31)"
      ]
     },
     "execution_count": 15,
     "metadata": {},
     "output_type": "execute_result"
    }
   ],
   "source": [
    "all_data.isna().sum().sum()\n",
    "all_data.shape"
   ]
  },
  {
   "cell_type": "markdown",
   "metadata": {},
   "source": [
    "In order to simulate the prediction situation, where the data used for prediction is within 168 days and the 62-day time window to be predicted is 46 days later. Thus, the whole dataset is splitted to four 168-day time periods as the data for generating dependent variables. Correspondingly, four 62-day time windows after the 46 days gap are found and considered as response time windows from where the target value is calculated."
   ]
  },
  {
   "cell_type": "code",
   "execution_count": 16,
   "metadata": {},
   "outputs": [
    {
     "data": {
      "text/plain": [
       "[Timestamp('2016-08-01 00:00:00'),\n",
       " Timestamp('2018-04-30 00:00:00'),\n",
       " Timedelta('637 days 00:00:00')]"
      ]
     },
     "execution_count": 16,
     "metadata": {},
     "output_type": "execute_result"
    },
    {
     "data": {
      "text/plain": [
       "[Timestamp('2018-05-01 00:00:00'),\n",
       " Timestamp('2018-10-15 00:00:00'),\n",
       " Timedelta('167 days 00:00:00')]"
      ]
     },
     "execution_count": 16,
     "metadata": {},
     "output_type": "execute_result"
    },
    {
     "data": {
      "text/plain": [
       "[Timestamp('2016-08-01 00:00:00'),\n",
       " Timestamp('2018-10-15 00:00:00'),\n",
       " Timedelta('805 days 00:00:00')]"
      ]
     },
     "execution_count": 16,
     "metadata": {},
     "output_type": "execute_result"
    }
   ],
   "source": [
    "[train.date.min(), train.date.max(), train.date.max() - train.date.min()]\n",
    "[test.date.min(),test.date.max(), test.date.max() - test.date.min()]\n",
    "[all_data.date.min(),all_data.date.max(), all_data.date.max() - all_data.date.min()]"
   ]
  },
  {
   "cell_type": "code",
   "execution_count": 17,
   "metadata": {},
   "outputs": [
    {
     "name": "stdout",
     "output_type": "stream",
     "text": [
      "Time period 1: 2016-08-01 to 2017-01-15\n",
      "Response Window 1: 2017-03-03 to 2017-05-04\n",
      "Time period 2: 2017-01-16 to 2017-07-02\n",
      "Response Window 2: 2017-08-18 to 2017-10-19\n",
      "Time period 3: 2017-07-03 to 2017-12-17\n",
      "Response Window 3: 2018-02-02 to 2018-04-05\n",
      "Time period 4: 2017-12-18 to 2018-06-03\n",
      "Response Window 4: 2018-07-20 to 2018-09-20\n"
     ]
    }
   ],
   "source": [
    "for i in range(4):\n",
    "    print ('Time period ' + str(i+1) + ': '+ str(all_data.date.min() + timedelta(days=168)*i)[0:10] + ' to ' + str(all_data.date.min() + timedelta(days=168)*i + timedelta(days=167))[0:10])\n",
    "    print ('Response Window ' + str(i+1) + ': ' + str(all_data.date.min() + timedelta(days = 168)*(i+1) + timedelta(days = 46))[0:10] + ' to ' + str(all_data.date.min() + timedelta(days = 168)*(i+1) + timedelta(days = 108))[0:10])"
   ]
  },
  {
   "cell_type": "code",
   "execution_count": 18,
   "metadata": {},
   "outputs": [],
   "source": [
    "# divide the data into 4 time periods\n",
    "tp1 = all_data[all_data.date <= '2017-01-15']\n",
    "tp2 = all_data[(all_data.date >= '2017-01-16') & (all_data.date <= '2017-07-02')]\n",
    "tp3 = all_data[(all_data.date >= '2017-07-03') & (all_data.date <= '2017-12-17')]\n",
    "tp4 = all_data[(all_data.date >= '2017-12-18') & (all_data.date <= '2018-06-03')]"
   ]
  },
  {
   "cell_type": "code",
   "execution_count": 19,
   "metadata": {},
   "outputs": [],
   "source": [
    "# get the target values in the corresponding response windows\n",
    "rw1 = all_data[(all_data.date >= '2017-03-03') & (all_data.date <= '2017-05-04')]\\\n",
    "[['fullVisitorId','transactionRevenue','date']]\n",
    "rw2 = all_data[(all_data.date >= '2017-08-18') & (all_data.date <= '2017-10-19')]\\\n",
    "[['fullVisitorId','transactionRevenue','date']]\n",
    "rw3 = all_data[(all_data.date >= '2018-02-02') & (all_data.date <= '2018-04-05')]\\\n",
    "[['fullVisitorId','transactionRevenue','date']]\n",
    "rw4 = all_data[(all_data.date >= '2018-07-20') & (all_data.date <= '2018-09-20')]\\\n",
    "[['fullVisitorId','transactionRevenue','date']]"
   ]
  },
  {
   "cell_type": "code",
   "execution_count": 20,
   "metadata": {},
   "outputs": [],
   "source": [
    "# Integrate the observations by per visitor\n",
    "# TP1 process"
   ]
  },
  {
   "cell_type": "code",
   "execution_count": 21,
   "metadata": {},
   "outputs": [],
   "source": [
    "groupSize1 = tp1.groupby('fullVisitorId').size().to_frame()\n",
    "groupSize1.columns=['size']\n",
    "tp1size = tp1.merge(groupSize1,how='left',left_on='fullVisitorId',right_index=True)\n",
    "tp1_dup = tp1size[tp1size['size']>1]\n",
    "tp1_uni = tp1size[tp1size['size']==1]"
   ]
  },
  {
   "cell_type": "code",
   "execution_count": 22,
   "metadata": {},
   "outputs": [],
   "source": [
    "tp1_dup_s = tp1_dup.groupby('fullVisitorId').agg({'bounces':'sum',\\\n",
    "                                  'browser':lambda x:x.value_counts().index[0],\\\n",
    "                                  'campaign':lambda x:x.value_counts().index[0],\\\n",
    "                                  'channelGrouping':'max',\\\n",
    "                                  'city':lambda x:x.value_counts().index[0],\\\n",
    "                                  'continent':lambda x:x.value_counts().index[0],\\\n",
    "                                  'country':lambda x:x.value_counts().index[0],\\\n",
    "                                  'date':['count',lambda x: (x.max() - x.min()).days],\\\n",
    "                                  'deviceCategory':lambda x:x.value_counts().index[0],\\\n",
    "                                  'hits':['sum','min','max','mean','std'],\\\n",
    "                                  'isMobile':lambda x:x.value_counts().index[0],\\\n",
    "                                  'isTrueDirect':lambda x:x.value_counts().index[0],\\\n",
    "                                  'medium':lambda x:x.value_counts().index[0],\\\n",
    "                                  'metro':lambda x:x.value_counts().index[0],\\\n",
    "                                  'networkDomain':lambda x:x.value_counts().index[0],\\\n",
    "                                  'newVisits':'max',\n",
    "                                  'operatingSystem':lambda x:x.value_counts().index[0],\\\n",
    "                                  'pageviews':['sum','min','max','mean','std'],\\\n",
    "                                  'region':lambda x:x.value_counts().index[0],\\\n",
    "                                  'source':lambda x:x.value_counts().index[0],\\\n",
    "                                  'subContinent':lambda x:x.value_counts().index[0],\\\n",
    "                                  'timeOnSite':'sum',\\\n",
    "                                  'transactionRevenue':'sum',\\\n",
    "                                  'transactions':'max',\\\n",
    "                                  'visitNumber':'max'})"
   ]
  },
  {
   "cell_type": "code",
   "execution_count": 23,
   "metadata": {},
   "outputs": [],
   "source": [
    "tp1_dup_s.columns = ['bounces','browser','campaign','channelGrouping','city',\\\n",
    "                            'continent','country','dateCount','dateDiff','deviceCategory','hitsSum',\\\n",
    "                            'hitsMin','hitsMax','hitsMean','hitsStd','isMobile','isTrueDirect','medium',\\\n",
    "                            'metro','networkDomain','newVisits','operatingSystem','pageViewsSum','pageViewsMin',\\\n",
    "                           'pageViewsMax','pageViewsMean','pageViewsStd','region','source','subContinent',\\\n",
    "                            'timeOnSite','transactionRevenue','transactions','visitNumber']"
   ]
  },
  {
   "cell_type": "code",
   "execution_count": 24,
   "metadata": {},
   "outputs": [],
   "source": [
    "tp1_uni_s = tp1_uni[['bounces','browser','campaign','channelGrouping','city',\\\n",
    "                    'continent','country','date','deviceCategory','hits',\\\n",
    "                    'isMobile','isTrueDirect','medium',\\\n",
    "                    'metro','networkDomain','newVisits','operatingSystem','pageviews',\\\n",
    "                    'region','source','subContinent',\\\n",
    "                    'timeOnSite','transactionRevenue','transactions','visitNumber']]"
   ]
  },
  {
   "cell_type": "code",
   "execution_count": 25,
   "metadata": {
    "scrolled": true
   },
   "outputs": [],
   "source": [
    "tp1_uni_s['dateCount'] = 1\n",
    "tp1_uni_s['dateDiff'] = 0\n",
    "tp1_uni_s['hitsSum'] = tp1_uni_s['hits']\n",
    "tp1_uni_s['hitsMin'] = tp1_uni_s['hits']\n",
    "tp1_uni_s['hitsMax'] = tp1_uni_s['hits']\n",
    "tp1_uni_s['hitsMean'] = tp1_uni_s['hits']\n",
    "tp1_uni_s['hitsStd'] = 0\n",
    "tp1_uni_s['pageViewsSum'] = tp1_uni_s['pageviews']\n",
    "tp1_uni_s['pageViewsMin'] = tp1_uni_s['pageviews']\n",
    "tp1_uni_s['pageViewsMax'] = tp1_uni_s['pageviews']\n",
    "tp1_uni_s['pageViewsMean'] = tp1_uni_s['pageviews']\n",
    "tp1_uni_s['pageViewsStd'] = 0"
   ]
  },
  {
   "cell_type": "code",
   "execution_count": 26,
   "metadata": {},
   "outputs": [],
   "source": [
    "tp1_uni_s.drop(columns = ['date','hits','pageviews'], inplace=True)"
   ]
  },
  {
   "cell_type": "code",
   "execution_count": 27,
   "metadata": {
    "scrolled": true
   },
   "outputs": [],
   "source": [
    "tp1_ = pd.concat([tp1_dup_s, tp1_uni_s])"
   ]
  },
  {
   "cell_type": "code",
   "execution_count": 28,
   "metadata": {},
   "outputs": [],
   "source": [
    "# TP2 Process\n",
    "groupSize2 = tp2.groupby('fullVisitorId').size().to_frame()\n",
    "groupSize2.columns=['size']\n",
    "tp2size = tp2.merge(groupSize2,how='left',left_on='fullVisitorId',right_index=True)\n",
    "tp2_dup = tp2size[tp2size['size']>1]\n",
    "tp2_uni = tp2size[tp2size['size']==1]"
   ]
  },
  {
   "cell_type": "code",
   "execution_count": 29,
   "metadata": {},
   "outputs": [],
   "source": [
    "tp2_dup_s = tp2_dup.groupby('fullVisitorId').agg({'bounces':'sum',\\\n",
    "                                  'browser':lambda x:x.value_counts().index[0],\\\n",
    "                                  'campaign':lambda x:x.value_counts().index[0],\\\n",
    "                                  'channelGrouping':'max',\\\n",
    "                                  'city':lambda x:x.value_counts().index[0],\\\n",
    "                                  'continent':lambda x:x.value_counts().index[0],\\\n",
    "                                  'country':lambda x:x.value_counts().index[0],\\\n",
    "                                  'date':['count',lambda x: (x.max() - x.min()).days],\\\n",
    "                                  'deviceCategory':lambda x:x.value_counts().index[0],\\\n",
    "                                  'hits':['sum','min','max','mean','std'],\\\n",
    "                                  'isMobile':lambda x:x.value_counts().index[0],\\\n",
    "                                  'isTrueDirect':lambda x:x.value_counts().index[0],\\\n",
    "                                  'medium':lambda x:x.value_counts().index[0],\\\n",
    "                                  'metro':lambda x:x.value_counts().index[0],\\\n",
    "                                  'networkDomain':lambda x:x.value_counts().index[0],\\\n",
    "                                  'newVisits':'max',\n",
    "                                  'operatingSystem':lambda x:x.value_counts().index[0],\\\n",
    "                                  'pageviews':['sum','min','max','mean','std'],\\\n",
    "                                  'region':lambda x:x.value_counts().index[0],\\\n",
    "                                  'source':lambda x:x.value_counts().index[0],\\\n",
    "                                  'subContinent':lambda x:x.value_counts().index[0],\\\n",
    "                                  'timeOnSite':'sum',\\\n",
    "                                  'transactionRevenue':'sum',\\\n",
    "                                  'transactions':'max',\\\n",
    "                                  'visitNumber':'max'})\n"
   ]
  },
  {
   "cell_type": "code",
   "execution_count": 30,
   "metadata": {},
   "outputs": [],
   "source": [
    "tp2_dup_s.columns = ['bounces','browser','campaign','channelGrouping','city',\\\n",
    "                            'continent','country','dateCount','dateDiff','deviceCategory','hitsSum',\\\n",
    "                            'hitsMin','hitsMax','hitsMean','hitsStd','isMobile','isTrueDirect','medium',\\\n",
    "                            'metro','networkDomain','newVisits','operatingSystem','pageViewsSum','pageViewsMin',\\\n",
    "                           'pageViewsMax','pageViewsMean','pageViewsStd','region','source','subContinent',\\\n",
    "                            'timeOnSite','transactionRevenue','transactions','visitNumber']"
   ]
  },
  {
   "cell_type": "code",
   "execution_count": 31,
   "metadata": {},
   "outputs": [],
   "source": [
    "tp2_uni_s = tp2_uni[['bounces','browser','campaign','channelGrouping','city',\\\n",
    "                    'continent','country','date','deviceCategory','hits',\\\n",
    "                    'isMobile','isTrueDirect','medium',\\\n",
    "                    'metro','networkDomain','newVisits','operatingSystem','pageviews',\\\n",
    "                    'region','source','subContinent',\\\n",
    "                    'timeOnSite','transactionRevenue','transactions','visitNumber']]"
   ]
  },
  {
   "cell_type": "code",
   "execution_count": 32,
   "metadata": {},
   "outputs": [],
   "source": [
    "tp2_uni_s['dateCount'] = 1\n",
    "tp2_uni_s['dateDiff'] = 0\n",
    "tp2_uni_s['hitsSum'] = tp2_uni_s['hits']\n",
    "tp2_uni_s['hitsMin'] = tp2_uni_s['hits']\n",
    "tp2_uni_s['hitsMax'] = tp2_uni_s['hits']\n",
    "tp2_uni_s['hitsMean'] = tp2_uni_s['hits']\n",
    "tp2_uni_s['hitsStd'] = 0\n",
    "tp2_uni_s['pageViewsSum'] = tp2_uni_s['pageviews']\n",
    "tp2_uni_s['pageViewsMin'] = tp2_uni_s['pageviews']\n",
    "tp2_uni_s['pageViewsMax'] = tp2_uni_s['pageviews']\n",
    "tp2_uni_s['pageViewsMean'] = tp2_uni_s['pageviews']\n",
    "tp2_uni_s['pageViewsStd'] = 0"
   ]
  },
  {
   "cell_type": "code",
   "execution_count": 33,
   "metadata": {},
   "outputs": [],
   "source": [
    "tp2_uni_s.drop(columns = ['date','hits','pageviews'], inplace=True)"
   ]
  },
  {
   "cell_type": "code",
   "execution_count": 34,
   "metadata": {},
   "outputs": [],
   "source": [
    "tp2_ = pd.concat([tp2_dup_s, tp2_uni_s])"
   ]
  },
  {
   "cell_type": "code",
   "execution_count": 35,
   "metadata": {},
   "outputs": [],
   "source": [
    "#TP3"
   ]
  },
  {
   "cell_type": "code",
   "execution_count": 36,
   "metadata": {},
   "outputs": [],
   "source": [
    "groupSize3 = tp3.groupby('fullVisitorId').size().to_frame()\n",
    "groupSize3.columns=['size']\n",
    "tp3size = tp3.merge(groupSize1,how='left',left_on='fullVisitorId',right_index=True)\n",
    "tp3_dup = tp3size[tp3size['size']>1]\n",
    "tp3_uni = tp3size[tp3size['size']==1]"
   ]
  },
  {
   "cell_type": "code",
   "execution_count": 37,
   "metadata": {},
   "outputs": [],
   "source": [
    "tp3_dup_s = tp3_dup.groupby('fullVisitorId').agg({'bounces':'sum',\\\n",
    "                                  'browser':lambda x:x.value_counts().index[0],\\\n",
    "                                  'campaign':lambda x:x.value_counts().index[0],\\\n",
    "                                  'channelGrouping':'max',\\\n",
    "                                  'city':lambda x:x.value_counts().index[0],\\\n",
    "                                  'continent':lambda x:x.value_counts().index[0],\\\n",
    "                                  'country':lambda x:x.value_counts().index[0],\\\n",
    "                                  'date':['count',lambda x: (x.max() - x.min()).days],\\\n",
    "                                  'deviceCategory':lambda x:x.value_counts().index[0],\\\n",
    "                                  'hits':['sum','min','max','mean','std'],\\\n",
    "                                  'isMobile':lambda x:x.value_counts().index[0],\\\n",
    "                                  'isTrueDirect':lambda x:x.value_counts().index[0],\\\n",
    "                                  'medium':lambda x:x.value_counts().index[0],\\\n",
    "                                  'metro':lambda x:x.value_counts().index[0],\\\n",
    "                                  'networkDomain':lambda x:x.value_counts().index[0],\\\n",
    "                                  'newVisits':'max',\n",
    "                                  'operatingSystem':lambda x:x.value_counts().index[0],\\\n",
    "                                  'pageviews':['sum','min','max','mean','std'],\\\n",
    "                                  'region':lambda x:x.value_counts().index[0],\\\n",
    "                                  'source':lambda x:x.value_counts().index[0],\\\n",
    "                                  'subContinent':lambda x:x.value_counts().index[0],\\\n",
    "                                  'timeOnSite':'sum',\\\n",
    "                                  'transactionRevenue':'sum',\\\n",
    "                                  'transactions':'max',\\\n",
    "                                  'visitNumber':'max'})\n"
   ]
  },
  {
   "cell_type": "code",
   "execution_count": 38,
   "metadata": {},
   "outputs": [],
   "source": [
    "tp3_dup_s.columns = ['bounces','browser','campaign','channelGrouping','city',\\\n",
    "                            'continent','country','dateCount','dateDiff','deviceCategory','hitsSum',\\\n",
    "                            'hitsMin','hitsMax','hitsMean','hitsStd','isMobile','isTrueDirect','medium',\\\n",
    "                            'metro','networkDomain','newVisits','operatingSystem','pageViewsSum','pageViewsMin',\\\n",
    "                           'pageViewsMax','pageViewsMean','pageViewsStd','region','source','subContinent',\\\n",
    "                            'timeOnSite','transactionRevenue','transactions','visitNumber']\n",
    "tp3_uni_s = tp3_uni[['bounces','browser','campaign','channelGrouping','city',\\\n",
    "                    'continent','country','date','deviceCategory','hits',\\\n",
    "                    'isMobile','isTrueDirect','medium',\\\n",
    "                    'metro','networkDomain','newVisits','operatingSystem','pageviews',\\\n",
    "                    'region','source','subContinent',\\\n",
    "                    'timeOnSite','transactionRevenue','transactions','visitNumber']]\n",
    "\n",
    "tp3_uni_s['dateCount'] = 1\n",
    "tp3_uni_s['dateDiff'] = 0\n",
    "tp3_uni_s['hitsSum'] = tp3_uni_s['hits']\n",
    "tp3_uni_s['hitsMin'] = tp3_uni_s['hits']\n",
    "tp3_uni_s['hitsMax'] = tp3_uni_s['hits']\n",
    "tp3_uni_s['hitsMean'] = tp3_uni_s['hits']\n",
    "tp3_uni_s['hitsStd'] = 0\n",
    "tp3_uni_s['pageViewsSum'] = tp3_uni_s['pageviews']\n",
    "tp3_uni_s['pageViewsMin'] = tp3_uni_s['pageviews']\n",
    "tp3_uni_s['pageViewsMax'] = tp3_uni_s['pageviews']\n",
    "tp3_uni_s['pageViewsMean'] = tp3_uni_s['pageviews']\n",
    "tp3_uni_s['pageViewsStd'] = 0\n",
    "\n",
    "tp3_uni_s.drop(columns = ['date','hits','pageviews'], inplace=True)\n",
    "tp3_ = pd.concat([tp3_dup_s, tp3_uni_s])"
   ]
  },
  {
   "cell_type": "code",
   "execution_count": 39,
   "metadata": {},
   "outputs": [],
   "source": [
    "# TP4"
   ]
  },
  {
   "cell_type": "code",
   "execution_count": 40,
   "metadata": {},
   "outputs": [],
   "source": [
    "groupSize4 = tp4.groupby('fullVisitorId').size().to_frame()\n",
    "groupSize4.columns=['size']\n",
    "tp4size = tp4.merge(groupSize4,how='left',left_on='fullVisitorId',right_index=True)\n",
    "tp4_dup = tp4size[tp4size['size']>1]\n",
    "tp4_uni = tp4size[tp4size['size']==1]"
   ]
  },
  {
   "cell_type": "code",
   "execution_count": 41,
   "metadata": {},
   "outputs": [],
   "source": [
    "tp4_dup_s = tp4_dup.groupby('fullVisitorId').agg({'bounces':'sum',\\\n",
    "                                  'browser':lambda x:x.value_counts().index[0],\\\n",
    "                                  'campaign':lambda x:x.value_counts().index[0],\\\n",
    "                                  'channelGrouping':'max',\\\n",
    "                                  'city':lambda x:x.value_counts().index[0],\\\n",
    "                                  'continent':lambda x:x.value_counts().index[0],\\\n",
    "                                  'country':lambda x:x.value_counts().index[0],\\\n",
    "                                  'date':['count',lambda x: (x.max() - x.min()).days],\\\n",
    "                                  'deviceCategory':lambda x:x.value_counts().index[0],\\\n",
    "                                  'hits':['sum','min','max','mean','std'],\\\n",
    "                                  'isMobile':lambda x:x.value_counts().index[0],\\\n",
    "                                  'isTrueDirect':lambda x:x.value_counts().index[0],\\\n",
    "                                  'medium':lambda x:x.value_counts().index[0],\\\n",
    "                                  'metro':lambda x:x.value_counts().index[0],\\\n",
    "                                  'networkDomain':lambda x:x.value_counts().index[0],\\\n",
    "                                  'newVisits':'max',\n",
    "                                  'operatingSystem':lambda x:x.value_counts().index[0],\\\n",
    "                                  'pageviews':['sum','min','max','mean','std'],\\\n",
    "                                  'region':lambda x:x.value_counts().index[0],\\\n",
    "                                  'source':lambda x:x.value_counts().index[0],\\\n",
    "                                  'subContinent':lambda x:x.value_counts().index[0],\\\n",
    "                                  'timeOnSite':'sum',\\\n",
    "                                  'transactionRevenue':'sum',\\\n",
    "                                  'transactions':'max',\\\n",
    "                                  'visitNumber':'max'})"
   ]
  },
  {
   "cell_type": "code",
   "execution_count": 42,
   "metadata": {},
   "outputs": [],
   "source": [
    "tp4_dup_s.columns = ['bounces','browser','campaign','channelGrouping','city',\\\n",
    "                            'continent','country','dateCount','dateDiff','deviceCategory','hitsSum',\\\n",
    "                            'hitsMin','hitsMax','hitsMean','hitsStd','isMobile','isTrueDirect','medium',\\\n",
    "                            'metro','networkDomain','newVisits','operatingSystem','pageViewsSum','pageViewsMin',\\\n",
    "                           'pageViewsMax','pageViewsMean','pageViewsStd','region','source','subContinent',\\\n",
    "                            'timeOnSite','transactionRevenue','transactions','visitNumber']\n",
    "tp4_uni_s = tp4_uni[['bounces','browser','campaign','channelGrouping','city',\\\n",
    "                    'continent','country','date','deviceCategory','hits',\\\n",
    "                    'isMobile','isTrueDirect','medium',\\\n",
    "                    'metro','networkDomain','newVisits','operatingSystem','pageviews',\\\n",
    "                    'region','source','subContinent',\\\n",
    "                    'timeOnSite','transactionRevenue','transactions','visitNumber']]\n",
    "\n",
    "tp4_uni_s['dateCount'] = 1\n",
    "tp4_uni_s['dateDiff'] = 0\n",
    "tp4_uni_s['hitsSum'] = tp4_uni_s['hits']\n",
    "tp4_uni_s['hitsMin'] = tp4_uni_s['hits']\n",
    "tp4_uni_s['hitsMax'] = tp4_uni_s['hits']\n",
    "tp4_uni_s['hitsMean'] = tp4_uni_s['hits']\n",
    "tp4_uni_s['hitsStd'] = 0\n",
    "tp4_uni_s['pageViewsSum'] = tp4_uni_s['pageviews']\n",
    "tp4_uni_s['pageViewsMin'] = tp4_uni_s['pageviews']\n",
    "tp4_uni_s['pageViewsMax'] = tp4_uni_s['pageviews']\n",
    "tp4_uni_s['pageViewsMean'] = tp4_uni_s['pageviews']\n",
    "tp4_uni_s['pageViewsStd'] = 0\n",
    "\n",
    "tp4_uni_s.drop(columns = ['date','hits','pageviews'], inplace=True)\n",
    "tp4_ = pd.concat([tp4_dup_s, tp4_uni_s])"
   ]
  },
  {
   "cell_type": "code",
   "execution_count": 43,
   "metadata": {},
   "outputs": [],
   "source": [
    "# target Y: log(∑transactionRevenue+1)\n",
    "Y_rw1 = rw1.groupby('fullVisitorId').transactionRevenue.sum().apply(lambda x: math.log(x+1)).to_frame()\n",
    "Y_rw2 = rw2.groupby('fullVisitorId').transactionRevenue.sum().apply(lambda x: math.log(x+1)).to_frame()\n",
    "Y_rw3 = rw3.groupby('fullVisitorId').transactionRevenue.sum().apply(lambda x: math.log(x+1)).to_frame()\n",
    "Y_rw4 = rw4.groupby('fullVisitorId').transactionRevenue.sum().apply(lambda x: math.log(x+1)).to_frame()"
   ]
  },
  {
   "cell_type": "code",
   "execution_count": 44,
   "metadata": {},
   "outputs": [
    {
     "data": {
      "text/plain": [
       "387078"
      ]
     },
     "execution_count": 44,
     "metadata": {},
     "output_type": "execute_result"
    }
   ],
   "source": [
    "tp1_.merge(Y_rw1,how = 'left', left_index= True, right_on = 'fullVisitorId').transactionRevenue_y.isna().sum()"
   ]
  },
  {
   "cell_type": "code",
   "execution_count": 45,
   "metadata": {},
   "outputs": [],
   "source": [
    "modelData1 = tp1_.merge(Y_rw1,how = 'left', left_index= True, right_on = 'fullVisitorId')\n",
    "modelData2 = tp2_.merge(Y_rw2,how = 'left', left_index= True, right_on = 'fullVisitorId')\n",
    "modelData3 = tp3_.merge(Y_rw3,how = 'left', left_index= True, right_on = 'fullVisitorId')\n",
    "modelData4 = tp4_.merge(Y_rw4,how = 'left', left_index= True, right_on = 'fullVisitorId')"
   ]
  },
  {
   "cell_type": "code",
   "execution_count": 46,
   "metadata": {},
   "outputs": [],
   "source": [
    "modelData1.transactionRevenue_y.fillna(0,inplace = True)\n",
    "modelData2.transactionRevenue_y.fillna(0,inplace = True)\n",
    "modelData3.transactionRevenue_y.fillna(0,inplace = True)\n",
    "modelData4.transactionRevenue_y.fillna(0,inplace = True)"
   ]
  },
  {
   "cell_type": "code",
   "execution_count": 47,
   "metadata": {},
   "outputs": [],
   "source": [
    "# The first 3 time periods is used as training dataset, the last one is used for testing\n",
    "model_train = pd.concat([modelData1, modelData2, modelData3])\n",
    "model_test = modelData4"
   ]
  },
  {
   "cell_type": "code",
   "execution_count": 48,
   "metadata": {},
   "outputs": [],
   "source": [
    "#model_train.browser.nunique()\n",
    "#model_train.campaign.nunique()\n",
    "\n",
    "#model_train.channelGrouping.nunique()\n",
    "#model_train.continent.nunique()\n",
    "#model_train.deviceCategory.nunique()\n",
    "#model_train.medium.nunique()\n",
    "#model_train.operatingSystem.nunique()\n",
    "#model_train.subContinent.nunique()"
   ]
  },
  {
   "cell_type": "code",
   "execution_count": 49,
   "metadata": {},
   "outputs": [],
   "source": [
    "dropcol2 = ['browser','campaign','city','country','metro','networkDomain','region','source']\n",
    "model_train.drop(columns = dropcol2, inplace=True)"
   ]
  },
  {
   "cell_type": "code",
   "execution_count": 50,
   "metadata": {},
   "outputs": [],
   "source": [
    "model_test.drop(columns = dropcol2, inplace=True)"
   ]
  },
  {
   "cell_type": "code",
   "execution_count": 51,
   "metadata": {},
   "outputs": [],
   "source": [
    "# label encoding the categorical variables\n",
    "cat_f = [\n",
    "    _f for _f in model_train.columns\n",
    "    if model_train[_f].dtype == 'object'\n",
    "]"
   ]
  },
  {
   "cell_type": "code",
   "execution_count": 52,
   "metadata": {},
   "outputs": [],
   "source": [
    "for f in cat_f:\n",
    "    model_train[f], indexer = pd.factorize(model_train[f])\n",
    "    model_test[f] = indexer.get_indexer(model_test[f])"
   ]
  },
  {
   "cell_type": "code",
   "execution_count": 53,
   "metadata": {},
   "outputs": [],
   "source": [
    "model_train_X = model_train.drop(['transactionRevenue_y'], axis=1)\n",
    "model_train_Y = model_train.transactionRevenue_y.fillna(0)\n",
    "model_test_X = model_test.drop(['transactionRevenue_y'], axis=1)\n",
    "model_test_Y = model_test.transactionRevenue_y.fillna(0)"
   ]
  },
  {
   "cell_type": "code",
   "execution_count": 54,
   "metadata": {},
   "outputs": [],
   "source": [
    "# generate a binary version of the target to denote if the customer returns or not\n",
    "model_train_Y_bin = model_train_Y.apply(lambda x: 1 if x>0 else 0)\n",
    "model_test_Y_bin = model_test_Y.apply(lambda x: 1 if x>0 else 0)"
   ]
  },
  {
   "cell_type": "code",
   "execution_count": 55,
   "metadata": {},
   "outputs": [
    {
     "name": "stdout",
     "output_type": "stream",
     "text": [
      "Training until validation scores don't improve for 100 rounds.\n",
      "[100]\tvalid_0's binary_logloss: 0.00120325\tvalid_0's binary_logloss: 0.00120325\n",
      "[200]\tvalid_0's binary_logloss: 0.00114542\tvalid_0's binary_logloss: 0.00114542\n",
      "[300]\tvalid_0's binary_logloss: 0.00112698\tvalid_0's binary_logloss: 0.00112698\n",
      "[400]\tvalid_0's binary_logloss: 0.00112407\tvalid_0's binary_logloss: 0.00112407\n",
      "Early stopping, best iteration is:\n",
      "[390]\tvalid_0's binary_logloss: 0.00112388\tvalid_0's binary_logloss: 0.00112388\n"
     ]
    },
    {
     "data": {
      "text/plain": [
       "LGBMClassifier(boosting_type='gbdt', class_weight=None, colsample_bytree=0.9,\n",
       "        importance_type='split', learning_rate=0.01, max_depth=6,\n",
       "        min_child_samples=20, min_child_weight=0.001, min_split_gain=0.0,\n",
       "        n_estimators=1000, n_jobs=-1, num_leaves=50, objective=None,\n",
       "        random_state=1, reg_alpha=0.0, reg_lambda=0.0, silent=True,\n",
       "        subsample=0.9, subsample_for_bin=200000, subsample_freq=0)"
      ]
     },
     "execution_count": 55,
     "metadata": {},
     "output_type": "execute_result"
    }
   ],
   "source": [
    "# run the first LightGBM model to get the return label\n",
    "lgb_model_1 = lgb.LGBMClassifier(\n",
    "        num_leaves=50,\n",
    "        learning_rate=0.01,\n",
    "        max_depth=6,\n",
    "        n_estimators=1000,\n",
    "        subsample=.9,\n",
    "        colsample_bytree=.9,\n",
    "        random_state=1)\n",
    "lgb_model_1.fit(\n",
    "        model_train_X, model_train_Y_bin,\n",
    "        eval_set=[(model_test_X, model_test_Y_bin)],\n",
    "        early_stopping_rounds=100,\n",
    "        verbose=100,\n",
    "        eval_metric='binary_logloss')"
   ]
  },
  {
   "cell_type": "code",
   "execution_count": 56,
   "metadata": {},
   "outputs": [],
   "source": [
    "model_train_return = model_train[model_train.transactionRevenue_y>0]\n",
    "model_train_return_X = model_train_return.drop(['transactionRevenue_y'], axis=1)\n",
    "model_train_return_Y = model_train_return.transactionRevenue_y.fillna(0)\n",
    "\n",
    "model_test_return = model_test[model_test.transactionRevenue_y>0]\n",
    "model_test_return_X = model_test_return.drop(['transactionRevenue_y'], axis=1)\n",
    "model_test_return_Y = model_test_return.transactionRevenue_y.fillna(0)"
   ]
  },
  {
   "cell_type": "code",
   "execution_count": 57,
   "metadata": {},
   "outputs": [
    {
     "data": {
      "text/plain": [
       "(157, 27)"
      ]
     },
     "execution_count": 57,
     "metadata": {},
     "output_type": "execute_result"
    },
    {
     "data": {
      "text/plain": [
       "(685628, 27)"
      ]
     },
     "execution_count": 57,
     "metadata": {},
     "output_type": "execute_result"
    },
    {
     "data": {
      "text/plain": [
       "(56, 27)"
      ]
     },
     "execution_count": 57,
     "metadata": {},
     "output_type": "execute_result"
    },
    {
     "data": {
      "text/plain": [
       "(379358, 27)"
      ]
     },
     "execution_count": 57,
     "metadata": {},
     "output_type": "execute_result"
    }
   ],
   "source": [
    "model_train_return.shape\n",
    "model_train.shape\n",
    "model_test_return.shape\n",
    "model_test.shape"
   ]
  },
  {
   "cell_type": "code",
   "execution_count": 58,
   "metadata": {},
   "outputs": [
    {
     "name": "stdout",
     "output_type": "stream",
     "text": [
      "Training until validation scores don't improve for 100 rounds.\n",
      "[100]\tvalid_0's rmse: 1.27277\tvalid_0's l2: 1.61994\n",
      "[200]\tvalid_0's rmse: 1.24734\tvalid_0's l2: 1.55585\n",
      "[300]\tvalid_0's rmse: 1.22863\tvalid_0's l2: 1.50954\n",
      "[400]\tvalid_0's rmse: 1.21432\tvalid_0's l2: 1.47456\n",
      "[500]\tvalid_0's rmse: 1.20487\tvalid_0's l2: 1.45172\n",
      "[600]\tvalid_0's rmse: 1.19946\tvalid_0's l2: 1.43872\n",
      "[700]\tvalid_0's rmse: 1.19669\tvalid_0's l2: 1.43206\n",
      "[800]\tvalid_0's rmse: 1.19607\tvalid_0's l2: 1.43058\n",
      "Early stopping, best iteration is:\n",
      "[775]\tvalid_0's rmse: 1.19575\tvalid_0's l2: 1.42981\n"
     ]
    },
    {
     "data": {
      "text/plain": [
       "LGBMRegressor(boosting_type='gbdt', class_weight=None, colsample_bytree=0.9,\n",
       "       importance_type='split', learning_rate=0.001, max_depth=-1,\n",
       "       min_child_samples=20, min_child_weight=0.001, min_split_gain=0.0,\n",
       "       n_estimators=1000, n_jobs=-1, num_leaves=30, objective=None,\n",
       "       random_state=1, reg_alpha=0.0, reg_lambda=0.0, silent=True,\n",
       "       subsample=0.9, subsample_for_bin=200000, subsample_freq=0)"
      ]
     },
     "execution_count": 58,
     "metadata": {},
     "output_type": "execute_result"
    }
   ],
   "source": [
    "# Run the second LightGBM model on the returned customers\n",
    "lgb_model_2 = lgb.LGBMRegressor(\n",
    "        num_leaves=30,\n",
    "        learning_rate=0.001,\n",
    "        max_depth=-1,\n",
    "        n_estimators=1000,\n",
    "        subsample=.9,\n",
    "        colsample_bytree=.9,\n",
    "        random_state=1)\n",
    "lgb_model_2.fit(\n",
    "        model_train_return_X, model_train_return_Y,\n",
    "        eval_set=[(model_test_return_X, model_test_return_Y)],\n",
    "        early_stopping_rounds=100,\n",
    "        verbose=100,\n",
    "        eval_metric='rmse')"
   ]
  },
  {
   "cell_type": "markdown",
   "metadata": {},
   "source": [
    "We get a RMSE of 1.4"
   ]
  },
  {
   "cell_type": "code",
   "execution_count": 59,
   "metadata": {},
   "outputs": [],
   "source": [
    "# process the dataset for predicting\n",
    "\n",
    "groupSize = test.groupby('fullVisitorId').size().to_frame()\n",
    "groupSize.columns=['size']\n",
    "testsize = test.merge(groupSize,how='left',left_on='fullVisitorId',right_index=True)\n",
    "test_dup = testsize[testsize['size']>1]\n",
    "test_uni = testsize[testsize['size']==1]"
   ]
  },
  {
   "cell_type": "code",
   "execution_count": 60,
   "metadata": {},
   "outputs": [],
   "source": [
    "test_dup_s = test_dup.groupby('fullVisitorId').agg({'bounces':'sum',\\\n",
    "                                  'browser':lambda x:x.value_counts().index[0],\\\n",
    "                                  'campaign':lambda x:x.value_counts().index[0],\\\n",
    "                                  'channelGrouping':'max',\\\n",
    "                                  'city':lambda x:x.value_counts().index[0],\\\n",
    "                                  'continent':lambda x:x.value_counts().index[0],\\\n",
    "                                  'country':lambda x:x.value_counts().index[0],\\\n",
    "                                  'date':['count',lambda x: (x.max() - x.min()).days],\\\n",
    "                                  'deviceCategory':lambda x:x.value_counts().index[0],\\\n",
    "                                  'hits':['sum','min','max','mean','std'],\\\n",
    "                                  'isMobile':lambda x:x.value_counts().index[0],\\\n",
    "                                  'isTrueDirect':'max',\\\n",
    "                                  'medium':lambda x:x.value_counts().index[0],\\\n",
    "                                  'metro':lambda x:x.value_counts().index[0],\\\n",
    "                                  'networkDomain':lambda x:x.value_counts().index[0],\\\n",
    "                                  'newVisits':'max',\n",
    "                                  'operatingSystem':lambda x:x.value_counts().index[0],\\\n",
    "                                  'pageviews':['sum','min','max','mean','std'],\\\n",
    "                                  'region':lambda x:x.value_counts().index[0],\\\n",
    "                                  'source':lambda x:x.value_counts().index[0],\\\n",
    "                                  'subContinent':lambda x:x.value_counts().index[0],\\\n",
    "                                  'timeOnSite':'sum',\\\n",
    "                                  'transactionRevenue':'sum',\\\n",
    "                                  'transactions':'max',\\\n",
    "                                  'visitNumber':'max'})"
   ]
  },
  {
   "cell_type": "code",
   "execution_count": 61,
   "metadata": {
    "scrolled": true
   },
   "outputs": [],
   "source": [
    "test_dup_s.columns = ['bounces','browser','campaign','channelGrouping','city',\\\n",
    "                            'continent','country','dateCount','dateDiff','deviceCategory','hitsSum',\\\n",
    "                            'hitsMin','hitsMax','hitsMean','hitsStd','isMobile','isTrueDirect','medium',\\\n",
    "                            'metro','networkDomain','newVisits','operatingSystem','pageViewsSum','pageViewsMin',\\\n",
    "                           'pageViewsMax','pageViewsMean','pageViewsStd','region','source','subContinent',\\\n",
    "                            'timeOnSite','transactionRevenue','transactions','visitNumber']\n",
    "test_uni_s = test_uni[['bounces','browser','campaign','channelGrouping','city',\\\n",
    "                    'continent','country','date','deviceCategory','hits',\\\n",
    "                    'isMobile','isTrueDirect','medium',\\\n",
    "                    'metro','networkDomain','newVisits','operatingSystem','pageviews',\\\n",
    "                    'region','source','subContinent',\\\n",
    "                    'timeOnSite','transactionRevenue','transactions','visitNumber']]\n",
    "\n",
    "test_uni_s['dateCount'] = 1\n",
    "test_uni_s['dateDiff'] = 0\n",
    "test_uni_s['hitsSum'] = test_uni_s['hits']\n",
    "test_uni_s['hitsMin'] = test_uni_s['hits']\n",
    "test_uni_s['hitsMax'] = test_uni_s['hits']\n",
    "test_uni_s['hitsMean'] = test_uni_s['hits']\n",
    "test_uni_s['hitsStd'] = 0\n",
    "test_uni_s['pageViewsSum'] = test_uni_s['pageviews']\n",
    "test_uni_s['pageViewsMin'] = test_uni_s['pageviews']\n",
    "test_uni_s['pageViewsMax'] = test_uni_s['pageviews']\n",
    "test_uni_s['pageViewsMean'] = test_uni_s['pageviews']\n",
    "test_uni_s['pageViewsStd'] = 0\n",
    "\n",
    "test_uni_s.drop(columns = ['date','hits','pageviews'], inplace=True)\n",
    "test_ = pd.concat([test_dup_s, test_uni_s])\n",
    "\n",
    "test_.drop(columns = dropcol2, inplace=True)\n",
    "\n",
    "for f in cat_f:\n",
    "    test_[f], indexer = pd.factorize(test_[f])"
   ]
  },
  {
   "cell_type": "code",
   "execution_count": 62,
   "metadata": {},
   "outputs": [],
   "source": [
    "test_.rename(columns={\"transactionRevenue\": \"transactionRevenue_x\"},inplace=True)"
   ]
  },
  {
   "cell_type": "code",
   "execution_count": 63,
   "metadata": {
    "scrolled": true
   },
   "outputs": [],
   "source": [
    "test_.isTrueDirect.fillna(False , inplace=True)"
   ]
  },
  {
   "cell_type": "code",
   "execution_count": 64,
   "metadata": {},
   "outputs": [],
   "source": [
    "# Predict\n",
    "predict_returnLabel = lgb_model_1.predict(test_)\n",
    "predict_targerValue = lgb_model_2.predict(test_)"
   ]
  },
  {
   "cell_type": "code",
   "execution_count": 65,
   "metadata": {},
   "outputs": [],
   "source": [
    "returnLabel = pd.Series(predict_returnLabel, index = test_.index).\\\n",
    "to_frame().reset_index()\n",
    "targetValue = pd.Series(predict_targerValue, index = test_.index).\\\n",
    "to_frame().reset_index()"
   ]
  },
  {
   "cell_type": "code",
   "execution_count": 66,
   "metadata": {
    "scrolled": true
   },
   "outputs": [],
   "source": [
    "result = returnLabel.merge(targetValue, left_on='index',right_on='index')"
   ]
  },
  {
   "cell_type": "code",
   "execution_count": 67,
   "metadata": {},
   "outputs": [],
   "source": [
    "result.columns = ['fullVisitorId','returnLabel', 'targetValue']"
   ]
  },
  {
   "cell_type": "code",
   "execution_count": 68,
   "metadata": {},
   "outputs": [],
   "source": [
    "# if returnLabel is 0 then we take 0, \n",
    "# if returnLabel is 1 then we take the value given by the second LGB regression model\n",
    "result['PredictedLogRevenue'] = result.returnLabel*result.targetValue"
   ]
  },
  {
   "cell_type": "code",
   "execution_count": 69,
   "metadata": {
    "scrolled": true
   },
   "outputs": [
    {
     "data": {
      "text/html": [
       "<div>\n",
       "<style scoped>\n",
       "    .dataframe tbody tr th:only-of-type {\n",
       "        vertical-align: middle;\n",
       "    }\n",
       "\n",
       "    .dataframe tbody tr th {\n",
       "        vertical-align: top;\n",
       "    }\n",
       "\n",
       "    .dataframe thead th {\n",
       "        text-align: right;\n",
       "    }\n",
       "</style>\n",
       "<table border=\"1\" class=\"dataframe\">\n",
       "  <thead>\n",
       "    <tr style=\"text-align: right;\">\n",
       "      <th></th>\n",
       "      <th>fullVisitorId</th>\n",
       "      <th>PredictedLogRevenue</th>\n",
       "    </tr>\n",
       "  </thead>\n",
       "  <tbody>\n",
       "    <tr>\n",
       "      <th>0</th>\n",
       "      <td>82829325851015</td>\n",
       "      <td>0.0</td>\n",
       "    </tr>\n",
       "    <tr>\n",
       "      <th>1</th>\n",
       "      <td>121818656106736</td>\n",
       "      <td>0.0</td>\n",
       "    </tr>\n",
       "    <tr>\n",
       "      <th>2</th>\n",
       "      <td>143452507824332</td>\n",
       "      <td>0.0</td>\n",
       "    </tr>\n",
       "    <tr>\n",
       "      <th>3</th>\n",
       "      <td>187558509199268</td>\n",
       "      <td>0.0</td>\n",
       "    </tr>\n",
       "    <tr>\n",
       "      <th>4</th>\n",
       "      <td>217190245033763</td>\n",
       "      <td>0.0</td>\n",
       "    </tr>\n",
       "  </tbody>\n",
       "</table>\n",
       "</div>"
      ],
      "text/plain": [
       "     fullVisitorId  PredictedLogRevenue\n",
       "0   82829325851015                  0.0\n",
       "1  121818656106736                  0.0\n",
       "2  143452507824332                  0.0\n",
       "3  187558509199268                  0.0\n",
       "4  217190245033763                  0.0"
      ]
     },
     "execution_count": 69,
     "metadata": {},
     "output_type": "execute_result"
    }
   ],
   "source": [
    "result.drop(['returnLabel','targetValue'], axis=1,inplace=True)\n",
    "result.head()"
   ]
  },
  {
   "cell_type": "code",
   "execution_count": 70,
   "metadata": {},
   "outputs": [],
   "source": [
    "result.to_csv('result.csv',index=False)"
   ]
  }
 ],
 "metadata": {
  "kernelspec": {
   "display_name": "Python 3",
   "language": "python",
   "name": "python3"
  },
  "language_info": {
   "codemirror_mode": {
    "name": "ipython",
    "version": 3
   },
   "file_extension": ".py",
   "mimetype": "text/x-python",
   "name": "python",
   "nbconvert_exporter": "python",
   "pygments_lexer": "ipython3",
   "version": "3.7.4"
  }
 },
 "nbformat": 4,
 "nbformat_minor": 2
}
