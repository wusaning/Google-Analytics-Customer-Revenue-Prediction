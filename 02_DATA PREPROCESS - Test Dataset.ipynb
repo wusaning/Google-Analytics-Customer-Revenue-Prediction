{
 "cells": [
  {
   "cell_type": "markdown",
   "metadata": {},
   "source": [
    "### DATA PREPROCESS - Test Dataset\n"
   ]
  },
  {
   "cell_type": "code",
   "execution_count": 1,
   "metadata": {},
   "outputs": [],
   "source": [
    "import numpy as np\n",
    "import pandas as pd\n",
    "import json"
   ]
  },
  {
   "cell_type": "code",
   "execution_count": 2,
   "metadata": {},
   "outputs": [],
   "source": [
    "# print all the outputs in a cell\n",
    "from IPython.core.interactiveshell import InteractiveShell\n",
    "InteractiveShell.ast_node_interactivity = \"all\""
   ]
  },
  {
   "cell_type": "code",
   "execution_count": 3,
   "metadata": {},
   "outputs": [],
   "source": [
    "pd.options.display.max_colwidth = 5600"
   ]
  },
  {
   "cell_type": "code",
   "execution_count": 4,
   "metadata": {},
   "outputs": [],
   "source": [
    "def flattenjson(df, var):\n",
    "    return df[var].apply(json.loads).apply(pd.Series)"
   ]
  },
  {
   "cell_type": "code",
   "execution_count": 5,
   "metadata": {},
   "outputs": [],
   "source": [
    "def flattenjson2(df, var):\n",
    "    return df[var].apply(lambda x: \"[{'index': '', 'value': ''}]\"\\\n",
    "    if x == '[]' else x).apply(lambda x: x[1:-1].replace(\"'\",'\"'))\\\n",
    "    .apply(json.loads).apply(pd.Series)"
   ]
  },
  {
   "cell_type": "code",
   "execution_count": 6,
   "metadata": {},
   "outputs": [
    {
     "name": "stderr",
     "output_type": "stream",
     "text": [
      "C:\\Users\\Ty\\Anaconda3\\lib\\site-packages\\IPython\\core\\interactiveshell.py:3049: DtypeWarning: Columns (4) have mixed types. Specify dtype option on import or set low_memory=False.\n",
      "  interactivity=interactivity, compiler=compiler, result=result)\n",
      "C:\\Users\\Ty\\Anaconda3\\lib\\site-packages\\ipykernel_launcher.py:7: FutureWarning: Sorting because non-concatenation axis is not aligned. A future version\n",
      "of pandas will change to not sort by default.\n",
      "\n",
      "To accept the future behavior, pass 'sort=False'.\n",
      "\n",
      "To retain the current behavior and silence the warning, pass 'sort=True'.\n",
      "\n",
      "  import sys\n"
     ]
    }
   ],
   "source": [
    "test_chunks = pd.read_csv('test_v2.csv',low_memory=True, chunksize=100000)\n",
    "totals_chunklist = []\n",
    "for c in test_chunks:\n",
    "    totals_chunk = flattenjson(c,'totals')\n",
    "    totals_chunklist.append(totals_chunk)\n",
    "    \n",
    "totals = pd.concat(totals_chunklist)"
   ]
  },
  {
   "cell_type": "code",
   "execution_count": 9,
   "metadata": {},
   "outputs": [],
   "source": [
    "test_chunks = pd.read_csv('test_v2.csv',low_memory=True, chunksize=100000)\n",
    "cd_chunklist = []\n",
    "for c in test_chunks:\n",
    "    cd_chunk = flattenjson2(c,'customDimensions')\n",
    "    cd_chunklist.append(cd_chunk)\n",
    "    \n",
    "customDimensions = pd.concat(cd_chunklist)"
   ]
  },
  {
   "cell_type": "code",
   "execution_count": 10,
   "metadata": {},
   "outputs": [],
   "source": [
    "test_chunks = pd.read_csv('test_v2.csv',low_memory=True, chunksize=100000)\n",
    "device_chunklist = []\n",
    "for c in test_chunks:\n",
    "    device_chunk = flattenjson(c,'device')\n",
    "    device_chunklist.append(device_chunk)\n",
    "    \n",
    "device = pd.concat(device_chunklist)"
   ]
  },
  {
   "cell_type": "code",
   "execution_count": 11,
   "metadata": {},
   "outputs": [],
   "source": [
    "test_chunks = pd.read_csv('test_v2.csv',low_memory=True, chunksize=100000)\n",
    "gn_chunklist = []\n",
    "for c in test_chunks:\n",
    "    gn_chunk = flattenjson(c,'geoNetwork')\n",
    "    gn_chunklist.append(gn_chunk)\n",
    "    \n",
    "geoNetwork = pd.concat(gn_chunklist)"
   ]
  },
  {
   "cell_type": "code",
   "execution_count": 12,
   "metadata": {},
   "outputs": [],
   "source": [
    "test_chunks = pd.read_csv('test_v2.csv',low_memory=True, chunksize=100000)\n",
    "ts_chunklist = []\n",
    "for c in test_chunks:\n",
    "    ts_chunk = flattenjson(c,'trafficSource')\n",
    "    ts_chunklist.append(ts_chunk)\n",
    "    \n",
    "trafficSource = pd.concat(ts_chunklist)"
   ]
  },
  {
   "cell_type": "code",
   "execution_count": 13,
   "metadata": {},
   "outputs": [],
   "source": [
    "test_nonjson = pd.read_csv('test_v2.csv',\n",
    "                               usecols=['channelGrouping', 'date','fullVisitorId','socialEngagementType', 'visitId', 'visitNumber', 'visitStartTime'], \n",
    "                               low_memory = True)"
   ]
  },
  {
   "cell_type": "code",
   "execution_count": 14,
   "metadata": {},
   "outputs": [],
   "source": [
    "test = test_nonjson.join(totals).join(customDimensions)\\\n",
    ".join(device).join(geoNetwork).join(trafficSource)"
   ]
  },
  {
   "cell_type": "code",
   "execution_count": 15,
   "metadata": {},
   "outputs": [
    {
     "data": {
      "text/plain": [
       "(401589, 54)"
      ]
     },
     "execution_count": 15,
     "metadata": {},
     "output_type": "execute_result"
    }
   ],
   "source": [
    "test.shape"
   ]
  },
  {
   "cell_type": "code",
   "execution_count": 16,
   "metadata": {},
   "outputs": [
    {
     "data": {
      "text/plain": [
       "Index(['channelGrouping', 'date', 'fullVisitorId', 'socialEngagementType',\n",
       "       'visitId', 'visitNumber', 'visitStartTime', 'bounces', 'hits',\n",
       "       'newVisits', 'pageviews', 'sessionQualityDim', 'timeOnSite',\n",
       "       'totalTransactionRevenue', 'transactionRevenue', 'transactions',\n",
       "       'visits', 'index', 'value', 'browser', 'browserVersion', 'browserSize',\n",
       "       'operatingSystem', 'operatingSystemVersion', 'isMobile',\n",
       "       'mobileDeviceBranding', 'mobileDeviceModel', 'mobileInputSelector',\n",
       "       'mobileDeviceInfo', 'mobileDeviceMarketingName', 'flashVersion',\n",
       "       'language', 'screenColors', 'screenResolution', 'deviceCategory',\n",
       "       'continent', 'subContinent', 'country', 'region', 'metro', 'city',\n",
       "       'cityId', 'networkDomain', 'latitude', 'longitude', 'networkLocation',\n",
       "       'referralPath', 'campaign', 'source', 'medium', 'keyword', 'adContent',\n",
       "       'adwordsClickInfo', 'isTrueDirect'],\n",
       "      dtype='object')"
      ]
     },
     "execution_count": 16,
     "metadata": {},
     "output_type": "execute_result"
    }
   ],
   "source": [
    "test.columns"
   ]
  },
  {
   "cell_type": "code",
   "execution_count": 17,
   "metadata": {},
   "outputs": [],
   "source": [
    "invalid_cols = ['socialEngagementType','browserVersion','browserSize','operatingSystemVersion',\\\n",
    "                'mobileDeviceBranding','mobileDeviceModel',\\\n",
    "        'mobileInputSelector','mobileDeviceInfo','mobileDeviceMarketingName',\\\n",
    "                'screenColors','flashVersion','language',\\\n",
    "         'screenResolution','cityId','latitude','longitude','networkLocation','adwordsClickInfo']"
   ]
  },
  {
   "cell_type": "code",
   "execution_count": 18,
   "metadata": {},
   "outputs": [],
   "source": [
    "test.drop(columns = invalid_cols,inplace=True)"
   ]
  },
  {
   "cell_type": "code",
   "execution_count": 19,
   "metadata": {},
   "outputs": [
    {
     "data": {
      "text/plain": [
       "(401589, 36)"
      ]
     },
     "execution_count": 19,
     "metadata": {},
     "output_type": "execute_result"
    }
   ],
   "source": [
    "test.shape"
   ]
  },
  {
   "cell_type": "code",
   "execution_count": 20,
   "metadata": {},
   "outputs": [],
   "source": [
    "test.to_csv('test_all.csv')"
   ]
  }
 ],
 "metadata": {
  "kernelspec": {
   "display_name": "Python 3",
   "language": "python",
   "name": "python3"
  },
  "language_info": {
   "codemirror_mode": {
    "name": "ipython",
    "version": 3
   },
   "file_extension": ".py",
   "mimetype": "text/x-python",
   "name": "python",
   "nbconvert_exporter": "python",
   "pygments_lexer": "ipython3",
   "version": "3.7.3"
  }
 },
 "nbformat": 4,
 "nbformat_minor": 2
}
